{
 "cells": [
  {
   "cell_type": "markdown",
   "metadata": {},
   "source": [
    "## <center> LGMVIP_DS_ September_23 Task 1-2 <center>\n",
    "## <center> Stock Market Prediction and Forecasting Using LSTM <center>\n",
    "## <center> By K. Pavan Kumar <center>"
   ]
  },
  {
   "cell_type": "code",
   "execution_count": 168,
   "metadata": {
    "_cell_guid": "b1076dfc-b9ad-4769-8c92-a6c4dae69d19",
    "_uuid": "8f2839f25d086af736a60e9eeb907d3b93b6e0e5",
    "execution": {
     "iopub.execute_input": "2023-09-22T19:28:17.756998Z",
     "iopub.status.busy": "2023-09-22T19:28:17.756614Z",
     "iopub.status.idle": "2023-09-22T19:28:17.763309Z",
     "shell.execute_reply": "2023-09-22T19:28:17.762395Z",
     "shell.execute_reply.started": "2023-09-22T19:28:17.756969Z"
    }
   },
   "outputs": [],
   "source": [
    "# This Python 3 environment comes with many helpful analytics libraries installed\n",
    "# It is defined by the kaggle/python Docker image: https://github.com/kaggle/docker-python\n",
    "# For example, here's several helpful packages to load\n",
    "\n",
    "import numpy as np # linear algebra\n",
    "import pandas as pd # data processing, CSV file I/O (e.g. pd.read_csv)\n",
    "\n",
    "# Input data files are available in the read-only \"../input/\" directory\n",
    "# For example, running this (by clicking run or pressing Shift+Enter) will list all files under the input directory\n",
    "\n",
    "import os\n",
    "#for dirname, _, filenames in os.walk('/kaggle/input'):\n",
    " #   for filename in filenames:\n",
    "  #      print(os.path.join(dirname, filename))\n",
    "\n",
    "# You can write up to 20GB to the current directory (/kaggle/working/) that gets preserved as output when you create a version using \"Save & Run All\" \n",
    "# You can also write temporary files to /kaggle/temp/, but they won't be saved outside of the current session"
   ]
  },
  {
   "cell_type": "markdown",
   "metadata": {},
   "source": [
    "## Importing Libraries:"
   ]
  },
  {
   "cell_type": "code",
   "execution_count": 209,
   "metadata": {
    "execution": {
     "iopub.execute_input": "2023-09-22T19:56:00.787333Z",
     "iopub.status.busy": "2023-09-22T19:56:00.786910Z",
     "iopub.status.idle": "2023-09-22T19:56:00.794492Z",
     "shell.execute_reply": "2023-09-22T19:56:00.793326Z",
     "shell.execute_reply.started": "2023-09-22T19:56:00.787299Z"
    }
   },
   "outputs": [],
   "source": [
    "import numpy as np\n",
    "import pandas as pd\n",
    "import matplotlib.pyplot as plt\n",
    "import seaborn as sns\n",
    "import warnings\n",
    "warnings.filterwarnings('ignore')\n",
    "from sklearn.metrics import accuracy_score\n",
    "import tensorflow as tf\n",
    "from sklearn.preprocessing import MinMaxScaler\n",
    "from sklearn.metrics import mean_squared_error\n",
    "import math"
   ]
  },
  {
   "cell_type": "markdown",
   "metadata": {},
   "source": [
    "## Importing Data"
   ]
  },
  {
   "cell_type": "code",
   "execution_count": 170,
   "metadata": {
    "execution": {
     "iopub.execute_input": "2023-09-22T19:28:17.850739Z",
     "iopub.status.busy": "2023-09-22T19:28:17.850325Z",
     "iopub.status.idle": "2023-09-22T19:28:17.885593Z",
     "shell.execute_reply": "2023-09-22T19:28:17.884425Z",
     "shell.execute_reply.started": "2023-09-22T19:28:17.850709Z"
    }
   },
   "outputs": [
    {
     "data": {
      "text/html": [
       "<div>\n",
       "<style scoped>\n",
       "    .dataframe tbody tr th:only-of-type {\n",
       "        vertical-align: middle;\n",
       "    }\n",
       "\n",
       "    .dataframe tbody tr th {\n",
       "        vertical-align: top;\n",
       "    }\n",
       "\n",
       "    .dataframe thead th {\n",
       "        text-align: right;\n",
       "    }\n",
       "</style>\n",
       "<table border=\"1\" class=\"dataframe\">\n",
       "  <thead>\n",
       "    <tr style=\"text-align: right;\">\n",
       "      <th></th>\n",
       "      <th>Date</th>\n",
       "      <th>Open</th>\n",
       "      <th>High</th>\n",
       "      <th>Low</th>\n",
       "      <th>Last</th>\n",
       "      <th>Close</th>\n",
       "      <th>Total Trade Quantity</th>\n",
       "      <th>Turnover (Lacs)</th>\n",
       "    </tr>\n",
       "  </thead>\n",
       "  <tbody>\n",
       "    <tr>\n",
       "      <th>0</th>\n",
       "      <td>2018-09-28</td>\n",
       "      <td>234.05</td>\n",
       "      <td>235.95</td>\n",
       "      <td>230.20</td>\n",
       "      <td>233.50</td>\n",
       "      <td>233.75</td>\n",
       "      <td>3069914</td>\n",
       "      <td>7162.35</td>\n",
       "    </tr>\n",
       "    <tr>\n",
       "      <th>1</th>\n",
       "      <td>2018-09-27</td>\n",
       "      <td>234.55</td>\n",
       "      <td>236.80</td>\n",
       "      <td>231.10</td>\n",
       "      <td>233.80</td>\n",
       "      <td>233.25</td>\n",
       "      <td>5082859</td>\n",
       "      <td>11859.95</td>\n",
       "    </tr>\n",
       "    <tr>\n",
       "      <th>2</th>\n",
       "      <td>2018-09-26</td>\n",
       "      <td>240.00</td>\n",
       "      <td>240.00</td>\n",
       "      <td>232.50</td>\n",
       "      <td>235.00</td>\n",
       "      <td>234.25</td>\n",
       "      <td>2240909</td>\n",
       "      <td>5248.60</td>\n",
       "    </tr>\n",
       "    <tr>\n",
       "      <th>3</th>\n",
       "      <td>2018-09-25</td>\n",
       "      <td>233.30</td>\n",
       "      <td>236.75</td>\n",
       "      <td>232.00</td>\n",
       "      <td>236.25</td>\n",
       "      <td>236.10</td>\n",
       "      <td>2349368</td>\n",
       "      <td>5503.90</td>\n",
       "    </tr>\n",
       "    <tr>\n",
       "      <th>4</th>\n",
       "      <td>2018-09-24</td>\n",
       "      <td>233.55</td>\n",
       "      <td>239.20</td>\n",
       "      <td>230.75</td>\n",
       "      <td>234.00</td>\n",
       "      <td>233.30</td>\n",
       "      <td>3423509</td>\n",
       "      <td>7999.55</td>\n",
       "    </tr>\n",
       "  </tbody>\n",
       "</table>\n",
       "</div>"
      ],
      "text/plain": [
       "         Date    Open    High     Low    Last   Close  Total Trade Quantity  \\\n",
       "0  2018-09-28  234.05  235.95  230.20  233.50  233.75               3069914   \n",
       "1  2018-09-27  234.55  236.80  231.10  233.80  233.25               5082859   \n",
       "2  2018-09-26  240.00  240.00  232.50  235.00  234.25               2240909   \n",
       "3  2018-09-25  233.30  236.75  232.00  236.25  236.10               2349368   \n",
       "4  2018-09-24  233.55  239.20  230.75  234.00  233.30               3423509   \n",
       "\n",
       "   Turnover (Lacs)  \n",
       "0          7162.35  \n",
       "1         11859.95  \n",
       "2          5248.60  \n",
       "3          5503.90  \n",
       "4          7999.55  "
      ]
     },
     "execution_count": 170,
     "metadata": {},
     "output_type": "execute_result"
    }
   ],
   "source": [
    "data=pd.read_csv('/kaggle/input/nse-tataglobal/NSE-TATAGLOBAL.csv')\n",
    "data.head()"
   ]
  },
  {
   "cell_type": "code",
   "execution_count": 171,
   "metadata": {
    "execution": {
     "iopub.execute_input": "2023-09-22T19:28:17.901959Z",
     "iopub.status.busy": "2023-09-22T19:28:17.901547Z",
     "iopub.status.idle": "2023-09-22T19:28:17.910401Z",
     "shell.execute_reply": "2023-09-22T19:28:17.908844Z",
     "shell.execute_reply.started": "2023-09-22T19:28:17.901928Z"
    }
   },
   "outputs": [],
   "source": [
    "# Converting 'Date' column to pandas date time series\n",
    "data.Date=pd.to_datetime(data.Date)"
   ]
  },
  {
   "cell_type": "code",
   "execution_count": 172,
   "metadata": {
    "execution": {
     "iopub.execute_input": "2023-09-22T19:28:18.007704Z",
     "iopub.status.busy": "2023-09-22T19:28:18.007280Z",
     "iopub.status.idle": "2023-09-22T19:28:18.015958Z",
     "shell.execute_reply": "2023-09-22T19:28:18.014446Z",
     "shell.execute_reply.started": "2023-09-22T19:28:18.007672Z"
    }
   },
   "outputs": [],
   "source": [
    "# Setting Date column as the index\n",
    "data.set_index('Date',inplace=True)"
   ]
  },
  {
   "cell_type": "code",
   "execution_count": 173,
   "metadata": {
    "execution": {
     "iopub.execute_input": "2023-09-22T19:28:18.046904Z",
     "iopub.status.busy": "2023-09-22T19:28:18.046514Z",
     "iopub.status.idle": "2023-09-22T19:28:18.064540Z",
     "shell.execute_reply": "2023-09-22T19:28:18.062882Z",
     "shell.execute_reply.started": "2023-09-22T19:28:18.046873Z"
    }
   },
   "outputs": [
    {
     "name": "stdout",
     "output_type": "stream",
     "text": [
      "<class 'pandas.core.frame.DataFrame'>\n",
      "DatetimeIndex: 2035 entries, 2018-09-28 to 2010-07-21\n",
      "Data columns (total 7 columns):\n",
      " #   Column                Non-Null Count  Dtype  \n",
      "---  ------                --------------  -----  \n",
      " 0   Open                  2035 non-null   float64\n",
      " 1   High                  2035 non-null   float64\n",
      " 2   Low                   2035 non-null   float64\n",
      " 3   Last                  2035 non-null   float64\n",
      " 4   Close                 2035 non-null   float64\n",
      " 5   Total Trade Quantity  2035 non-null   int64  \n",
      " 6   Turnover (Lacs)       2035 non-null   float64\n",
      "dtypes: float64(6), int64(1)\n",
      "memory usage: 127.2 KB\n"
     ]
    }
   ],
   "source": [
    "data.info()"
   ]
  },
  {
   "cell_type": "code",
   "execution_count": 174,
   "metadata": {
    "execution": {
     "iopub.execute_input": "2023-09-22T19:28:18.086879Z",
     "iopub.status.busy": "2023-09-22T19:28:18.086480Z",
     "iopub.status.idle": "2023-09-22T19:28:18.096650Z",
     "shell.execute_reply": "2023-09-22T19:28:18.095501Z",
     "shell.execute_reply.started": "2023-09-22T19:28:18.086849Z"
    }
   },
   "outputs": [
    {
     "data": {
      "text/plain": [
       "Open                    0\n",
       "High                    0\n",
       "Low                     0\n",
       "Last                    0\n",
       "Close                   0\n",
       "Total Trade Quantity    0\n",
       "Turnover (Lacs)         0\n",
       "dtype: int64"
      ]
     },
     "execution_count": 174,
     "metadata": {},
     "output_type": "execute_result"
    }
   ],
   "source": [
    "# Checking for Null Values in data frame\n",
    "data.isnull().sum()"
   ]
  },
  {
   "cell_type": "code",
   "execution_count": 175,
   "metadata": {
    "execution": {
     "iopub.execute_input": "2023-09-22T19:28:18.115688Z",
     "iopub.status.busy": "2023-09-22T19:28:18.115225Z",
     "iopub.status.idle": "2023-09-22T19:28:18.123388Z",
     "shell.execute_reply": "2023-09-22T19:28:18.122008Z",
     "shell.execute_reply.started": "2023-09-22T19:28:18.115653Z"
    }
   },
   "outputs": [],
   "source": [
    "# Sorting Datframe using Date index as reference.\n",
    "data.sort_index(ascending=True,inplace=True)"
   ]
  },
  {
   "cell_type": "markdown",
   "metadata": {},
   "source": [
    "## Preprocessing Data:"
   ]
  },
  {
   "cell_type": "code",
   "execution_count": 176,
   "metadata": {
    "execution": {
     "iopub.execute_input": "2023-09-22T19:28:18.157776Z",
     "iopub.status.busy": "2023-09-22T19:28:18.157381Z",
     "iopub.status.idle": "2023-09-22T19:28:18.163800Z",
     "shell.execute_reply": "2023-09-22T19:28:18.162389Z",
     "shell.execute_reply.started": "2023-09-22T19:28:18.157746Z"
    }
   },
   "outputs": [],
   "source": [
    "# MinMax Scaling function is used for scaling the desired variable\n",
    "minmaxscaler=MinMaxScaler()"
   ]
  },
  {
   "cell_type": "code",
   "execution_count": 177,
   "metadata": {
    "execution": {
     "iopub.execute_input": "2023-09-22T19:28:18.193450Z",
     "iopub.status.busy": "2023-09-22T19:28:18.192982Z",
     "iopub.status.idle": "2023-09-22T19:28:18.207050Z",
     "shell.execute_reply": "2023-09-22T19:28:18.205672Z",
     "shell.execute_reply.started": "2023-09-22T19:28:18.193414Z"
    }
   },
   "outputs": [],
   "source": [
    "# 'Close' column is fit and transformed using MinMaxScaler function, so that values of 'Close' column\n",
    "# would fall within range of [0,1]\n",
    "data['Close']=minmaxscaler.fit_transform(data[['Close']])"
   ]
  },
  {
   "cell_type": "markdown",
   "metadata": {},
   "source": [
    "## Splitting Train and Test Dataset:"
   ]
  },
  {
   "cell_type": "code",
   "execution_count": 178,
   "metadata": {
    "execution": {
     "iopub.execute_input": "2023-09-22T19:28:18.240300Z",
     "iopub.status.busy": "2023-09-22T19:28:18.239895Z",
     "iopub.status.idle": "2023-09-22T19:28:18.247523Z",
     "shell.execute_reply": "2023-09-22T19:28:18.246119Z",
     "shell.execute_reply.started": "2023-09-22T19:28:18.240270Z"
    }
   },
   "outputs": [],
   "source": [
    "# Defining 70% of length of datframe as 'Training Size'\n",
    "training_size=int(len(data)*0.7)"
   ]
  },
  {
   "cell_type": "code",
   "execution_count": 179,
   "metadata": {
    "execution": {
     "iopub.execute_input": "2023-09-22T19:28:18.314843Z",
     "iopub.status.busy": "2023-09-22T19:28:18.314409Z",
     "iopub.status.idle": "2023-09-22T19:28:18.321888Z",
     "shell.execute_reply": "2023-09-22T19:28:18.320579Z",
     "shell.execute_reply.started": "2023-09-22T19:28:18.314811Z"
    }
   },
   "outputs": [],
   "source": [
    "# Assigning 'Close' column values in the form of np.array using reshape\n",
    "# data['close'][:training_size].values means up to 70% of dataframe is assigned for train_data\n",
    "train_data,test_data = data['Close'][:training_size].values.reshape(-1,1), data['Close'][training_size:].values.reshape(-1,1)"
   ]
  },
  {
   "cell_type": "code",
   "execution_count": 180,
   "metadata": {
    "execution": {
     "iopub.execute_input": "2023-09-22T19:28:18.342791Z",
     "iopub.status.busy": "2023-09-22T19:28:18.342389Z",
     "iopub.status.idle": "2023-09-22T19:28:18.350802Z",
     "shell.execute_reply": "2023-09-22T19:28:18.349729Z",
     "shell.execute_reply.started": "2023-09-22T19:28:18.342761Z"
    }
   },
   "outputs": [
    {
     "data": {
      "text/plain": [
       "array([0.16584967, 0.16319444, 0.1621732 , ..., 0.15012255, 0.15747549,\n",
       "       0.15277778])"
      ]
     },
     "execution_count": 180,
     "metadata": {},
     "output_type": "execute_result"
    }
   ],
   "source": [
    "# Since train_data is numpy array, we can perform operations as below\n",
    "train_data[:,0]"
   ]
  },
  {
   "cell_type": "code",
   "execution_count": 181,
   "metadata": {
    "execution": {
     "iopub.execute_input": "2023-09-22T19:28:18.382677Z",
     "iopub.status.busy": "2023-09-22T19:28:18.382210Z",
     "iopub.status.idle": "2023-09-22T19:28:18.392076Z",
     "shell.execute_reply": "2023-09-22T19:28:18.390521Z",
     "shell.execute_reply.started": "2023-09-22T19:28:18.382645Z"
    }
   },
   "outputs": [],
   "source": [
    "# Function for creating Sequence of Inputs for Training LSTM\n",
    "def create_sequence(data1,sequence_len):\n",
    "    datax=[] # Creating an empty list datax\n",
    "    datay=[] # Creating an empty list datay\n",
    "    for i in range(len(data1)-sequence_len): #Since first Sequnce_len is left and data is considered after that\n",
    "        x=data1[i:i+sequence_len,0] #as data1 to be input as np.array, \n",
    "                                    #thus forming np.array of shape (len(data1)-sequence_len,seq_len)\n",
    "        y=data1[i+sequence_len,0] #the value present after sequence_len is \n",
    "                                  #assigned as target value, for which LSTM will have to match.\n",
    "        datax.append(x)\n",
    "        datay.append(y)\n",
    "    return np.array(datax),np.array(datay) # Returning datax and datay"
   ]
  },
  {
   "cell_type": "code",
   "execution_count": 182,
   "metadata": {
    "execution": {
     "iopub.execute_input": "2023-09-22T19:28:18.414214Z",
     "iopub.status.busy": "2023-09-22T19:28:18.413833Z",
     "iopub.status.idle": "2023-09-22T19:28:18.419391Z",
     "shell.execute_reply": "2023-09-22T19:28:18.418116Z",
     "shell.execute_reply.started": "2023-09-22T19:28:18.414184Z"
    }
   },
   "outputs": [],
   "source": [
    "#specifying sequence length\n",
    "seq_len=50"
   ]
  },
  {
   "cell_type": "code",
   "execution_count": 183,
   "metadata": {
    "execution": {
     "iopub.execute_input": "2023-09-22T19:28:18.465340Z",
     "iopub.status.busy": "2023-09-22T19:28:18.464890Z",
     "iopub.status.idle": "2023-09-22T19:28:18.477689Z",
     "shell.execute_reply": "2023-09-22T19:28:18.476123Z",
     "shell.execute_reply.started": "2023-09-22T19:28:18.465306Z"
    }
   },
   "outputs": [],
   "source": [
    "X_train,y_train=create_sequence(train_data,seq_len) #assigning values from create sequence to X_train and y_train\n",
    "X_test,y_test=create_sequence(test_data,seq_len) #assigning values from create sequence to X_test and y_test"
   ]
  },
  {
   "cell_type": "code",
   "execution_count": 184,
   "metadata": {
    "execution": {
     "iopub.execute_input": "2023-09-22T19:28:18.550315Z",
     "iopub.status.busy": "2023-09-22T19:28:18.549844Z",
     "iopub.status.idle": "2023-09-22T19:28:18.557332Z",
     "shell.execute_reply": "2023-09-22T19:28:18.556371Z",
     "shell.execute_reply.started": "2023-09-22T19:28:18.550269Z"
    }
   },
   "outputs": [
    {
     "data": {
      "text/plain": [
       "(1374, 50)"
      ]
     },
     "execution_count": 184,
     "metadata": {},
     "output_type": "execute_result"
    }
   ],
   "source": [
    "# the shape second dimension depends on sequence length you have chosen\n",
    "X_train.shape"
   ]
  },
  {
   "cell_type": "code",
   "execution_count": 185,
   "metadata": {
    "execution": {
     "iopub.execute_input": "2023-09-22T19:28:18.570770Z",
     "iopub.status.busy": "2023-09-22T19:28:18.570352Z",
     "iopub.status.idle": "2023-09-22T19:28:18.576766Z",
     "shell.execute_reply": "2023-09-22T19:28:18.575721Z",
     "shell.execute_reply.started": "2023-09-22T19:28:18.570740Z"
    }
   },
   "outputs": [],
   "source": [
    "#Reshaping the 2D arrays to 3D arrays to avoid error while inputting to LSTM\n",
    "X_train=X_train.reshape(X_train.shape[0],X_train.shape[1],1)\n",
    "X_test=X_test.reshape(X_test.shape[0],X_test.shape[1],1)"
   ]
  },
  {
   "cell_type": "markdown",
   "metadata": {},
   "source": [
    "## Model Building"
   ]
  },
  {
   "cell_type": "code",
   "execution_count": 186,
   "metadata": {
    "execution": {
     "iopub.execute_input": "2023-09-22T19:28:18.601679Z",
     "iopub.status.busy": "2023-09-22T19:28:18.601225Z",
     "iopub.status.idle": "2023-09-22T19:28:18.607780Z",
     "shell.execute_reply": "2023-09-22T19:28:18.606334Z",
     "shell.execute_reply.started": "2023-09-22T19:28:18.601645Z"
    }
   },
   "outputs": [],
   "source": [
    "from tensorflow.keras.layers import LSTM, Dense\n",
    "from tensorflow.keras.models import Sequential"
   ]
  },
  {
   "cell_type": "code",
   "execution_count": 187,
   "metadata": {
    "execution": {
     "iopub.execute_input": "2023-09-22T19:28:18.633016Z",
     "iopub.status.busy": "2023-09-22T19:28:18.632600Z",
     "iopub.status.idle": "2023-09-22T19:28:18.642204Z",
     "shell.execute_reply": "2023-09-22T19:28:18.640833Z",
     "shell.execute_reply.started": "2023-09-22T19:28:18.632986Z"
    }
   },
   "outputs": [],
   "source": [
    "model_close=Sequential()"
   ]
  },
  {
   "cell_type": "code",
   "execution_count": 188,
   "metadata": {
    "execution": {
     "iopub.execute_input": "2023-09-22T19:28:18.661565Z",
     "iopub.status.busy": "2023-09-22T19:28:18.661121Z",
     "iopub.status.idle": "2023-09-22T19:28:19.739183Z",
     "shell.execute_reply": "2023-09-22T19:28:19.737699Z",
     "shell.execute_reply.started": "2023-09-22T19:28:18.661530Z"
    }
   },
   "outputs": [],
   "source": [
    "model_close.add(LSTM(units=50,return_sequences=True,input_shape=(seq_len,1)))\n",
    "model_close.add(LSTM(units=50,return_sequences=True))\n",
    "model_close.add(LSTM(units=50))\n",
    "model_close.add(Dense(1))"
   ]
  },
  {
   "cell_type": "code",
   "execution_count": 189,
   "metadata": {
    "execution": {
     "iopub.execute_input": "2023-09-22T19:28:19.742130Z",
     "iopub.status.busy": "2023-09-22T19:28:19.741759Z",
     "iopub.status.idle": "2023-09-22T19:28:19.768175Z",
     "shell.execute_reply": "2023-09-22T19:28:19.766950Z",
     "shell.execute_reply.started": "2023-09-22T19:28:19.742097Z"
    }
   },
   "outputs": [
    {
     "name": "stdout",
     "output_type": "stream",
     "text": [
      "Model: \"sequential_5\"\n",
      "_________________________________________________________________\n",
      " Layer (type)                Output Shape              Param #   \n",
      "=================================================================\n",
      " lstm_13 (LSTM)              (None, 50, 50)            10400     \n",
      "                                                                 \n",
      " lstm_14 (LSTM)              (None, 50, 50)            20200     \n",
      "                                                                 \n",
      " lstm_15 (LSTM)              (None, 50)                20200     \n",
      "                                                                 \n",
      " dense_5 (Dense)             (None, 1)                 51        \n",
      "                                                                 \n",
      "=================================================================\n",
      "Total params: 50,851\n",
      "Trainable params: 50,851\n",
      "Non-trainable params: 0\n",
      "_________________________________________________________________\n"
     ]
    }
   ],
   "source": [
    "model_close.summary()"
   ]
  },
  {
   "cell_type": "code",
   "execution_count": 190,
   "metadata": {
    "execution": {
     "iopub.execute_input": "2023-09-22T19:28:19.770142Z",
     "iopub.status.busy": "2023-09-22T19:28:19.769777Z",
     "iopub.status.idle": "2023-09-22T19:28:19.785709Z",
     "shell.execute_reply": "2023-09-22T19:28:19.784155Z",
     "shell.execute_reply.started": "2023-09-22T19:28:19.770110Z"
    }
   },
   "outputs": [],
   "source": [
    "# Since this is continuous regression like problem, the loss or performance is based on 'mean_squared_error'\n",
    "model_close.compile(optimizer='Adam',loss='mean_squared_error')"
   ]
  },
  {
   "cell_type": "code",
   "execution_count": 191,
   "metadata": {
    "execution": {
     "iopub.execute_input": "2023-09-22T19:28:19.789217Z",
     "iopub.status.busy": "2023-09-22T19:28:19.788823Z",
     "iopub.status.idle": "2023-09-22T19:31:47.596538Z",
     "shell.execute_reply": "2023-09-22T19:31:47.595343Z",
     "shell.execute_reply.started": "2023-09-22T19:28:19.789184Z"
    }
   },
   "outputs": [
    {
     "name": "stdout",
     "output_type": "stream",
     "text": [
      "Epoch 1/50\n",
      "43/43 [==============================] - 11s 115ms/step - loss: 0.0058 - val_loss: 0.0051\n",
      "Epoch 2/50\n",
      "43/43 [==============================] - 4s 87ms/step - loss: 0.0010 - val_loss: 0.0029\n",
      "Epoch 3/50\n",
      "43/43 [==============================] - 4s 84ms/step - loss: 9.2457e-04 - val_loss: 0.0028\n",
      "Epoch 4/50\n",
      "43/43 [==============================] - 4s 91ms/step - loss: 8.6835e-04 - val_loss: 0.0025\n",
      "Epoch 5/50\n",
      "43/43 [==============================] - 4s 85ms/step - loss: 7.7709e-04 - val_loss: 0.0060\n",
      "Epoch 6/50\n",
      "43/43 [==============================] - 4s 84ms/step - loss: 7.2899e-04 - val_loss: 0.0023\n",
      "Epoch 7/50\n",
      "43/43 [==============================] - 4s 86ms/step - loss: 6.8154e-04 - val_loss: 0.0037\n",
      "Epoch 8/50\n",
      "43/43 [==============================] - 4s 85ms/step - loss: 6.3338e-04 - val_loss: 0.0034\n",
      "Epoch 9/50\n",
      "43/43 [==============================] - 4s 84ms/step - loss: 6.1757e-04 - val_loss: 0.0046\n",
      "Epoch 10/50\n",
      "43/43 [==============================] - 4s 88ms/step - loss: 5.7814e-04 - val_loss: 0.0051\n",
      "Epoch 11/50\n",
      "43/43 [==============================] - 4s 83ms/step - loss: 5.2445e-04 - val_loss: 0.0030\n",
      "Epoch 12/50\n",
      "43/43 [==============================] - 4s 88ms/step - loss: 5.4232e-04 - val_loss: 0.0014\n",
      "Epoch 13/50\n",
      "43/43 [==============================] - 4s 86ms/step - loss: 4.9402e-04 - val_loss: 0.0022\n",
      "Epoch 14/50\n",
      "43/43 [==============================] - 4s 88ms/step - loss: 4.5591e-04 - val_loss: 0.0020\n",
      "Epoch 15/50\n",
      "43/43 [==============================] - 4s 88ms/step - loss: 4.6446e-04 - val_loss: 0.0024\n",
      "Epoch 16/50\n",
      "43/43 [==============================] - 4s 89ms/step - loss: 4.0964e-04 - val_loss: 0.0027\n",
      "Epoch 17/50\n",
      "43/43 [==============================] - 4s 87ms/step - loss: 3.8499e-04 - val_loss: 0.0013\n",
      "Epoch 18/50\n",
      "43/43 [==============================] - 4s 88ms/step - loss: 3.6634e-04 - val_loss: 0.0024\n",
      "Epoch 19/50\n",
      "43/43 [==============================] - 4s 87ms/step - loss: 4.0223e-04 - val_loss: 0.0012\n",
      "Epoch 20/50\n",
      "43/43 [==============================] - 4s 88ms/step - loss: 3.8484e-04 - val_loss: 0.0012\n",
      "Epoch 21/50\n",
      "43/43 [==============================] - 4s 93ms/step - loss: 3.1208e-04 - val_loss: 0.0024\n",
      "Epoch 22/50\n",
      "43/43 [==============================] - 4s 94ms/step - loss: 3.0229e-04 - val_loss: 7.1610e-04\n",
      "Epoch 23/50\n",
      "43/43 [==============================] - 4s 88ms/step - loss: 3.1824e-04 - val_loss: 9.9620e-04\n",
      "Epoch 24/50\n",
      "43/43 [==============================] - 4s 87ms/step - loss: 3.3259e-04 - val_loss: 0.0010\n",
      "Epoch 25/50\n",
      "43/43 [==============================] - 4s 85ms/step - loss: 2.5587e-04 - val_loss: 8.2306e-04\n",
      "Epoch 26/50\n",
      "43/43 [==============================] - 4s 84ms/step - loss: 2.6131e-04 - val_loss: 6.5461e-04\n",
      "Epoch 27/50\n",
      "43/43 [==============================] - 4s 82ms/step - loss: 2.4659e-04 - val_loss: 0.0011\n",
      "Epoch 28/50\n",
      "43/43 [==============================] - 4s 85ms/step - loss: 2.2338e-04 - val_loss: 5.9901e-04\n",
      "Epoch 29/50\n",
      "43/43 [==============================] - 4s 87ms/step - loss: 2.2135e-04 - val_loss: 8.4470e-04\n",
      "Epoch 30/50\n",
      "43/43 [==============================] - 4s 84ms/step - loss: 2.0707e-04 - val_loss: 5.3810e-04\n",
      "Epoch 31/50\n",
      "43/43 [==============================] - 4s 86ms/step - loss: 2.0804e-04 - val_loss: 5.4524e-04\n",
      "Epoch 32/50\n",
      "43/43 [==============================] - 4s 85ms/step - loss: 2.0733e-04 - val_loss: 7.0444e-04\n",
      "Epoch 33/50\n",
      "43/43 [==============================] - 4s 84ms/step - loss: 1.7432e-04 - val_loss: 5.6126e-04\n",
      "Epoch 34/50\n",
      "43/43 [==============================] - 4s 87ms/step - loss: 1.8887e-04 - val_loss: 5.9669e-04\n",
      "Epoch 35/50\n",
      "43/43 [==============================] - 4s 89ms/step - loss: 1.7889e-04 - val_loss: 4.9879e-04\n",
      "Epoch 36/50\n",
      "43/43 [==============================] - 4s 86ms/step - loss: 1.6400e-04 - val_loss: 9.1908e-04\n",
      "Epoch 37/50\n",
      "43/43 [==============================] - 4s 86ms/step - loss: 1.5788e-04 - val_loss: 5.7093e-04\n",
      "Epoch 38/50\n",
      "43/43 [==============================] - 4s 89ms/step - loss: 1.6217e-04 - val_loss: 5.4506e-04\n",
      "Epoch 39/50\n",
      "43/43 [==============================] - 4s 88ms/step - loss: 1.5754e-04 - val_loss: 4.8103e-04\n",
      "Epoch 40/50\n",
      "43/43 [==============================] - 4s 86ms/step - loss: 1.5654e-04 - val_loss: 6.1955e-04\n",
      "Epoch 41/50\n",
      "43/43 [==============================] - 4s 88ms/step - loss: 1.5852e-04 - val_loss: 4.5751e-04\n",
      "Epoch 42/50\n",
      "43/43 [==============================] - 4s 85ms/step - loss: 1.5392e-04 - val_loss: 4.8768e-04\n",
      "Epoch 43/50\n",
      "43/43 [==============================] - 4s 85ms/step - loss: 1.4781e-04 - val_loss: 4.9602e-04\n",
      "Epoch 44/50\n",
      "43/43 [==============================] - 4s 85ms/step - loss: 1.5735e-04 - val_loss: 4.9448e-04\n",
      "Epoch 45/50\n",
      "43/43 [==============================] - 4s 86ms/step - loss: 1.7894e-04 - val_loss: 4.4507e-04\n",
      "Epoch 46/50\n",
      "43/43 [==============================] - 4s 87ms/step - loss: 1.7111e-04 - val_loss: 8.1203e-04\n",
      "Epoch 47/50\n",
      "43/43 [==============================] - 4s 92ms/step - loss: 1.5800e-04 - val_loss: 0.0011\n",
      "Epoch 48/50\n",
      "43/43 [==============================] - 4s 85ms/step - loss: 1.4219e-04 - val_loss: 5.4852e-04\n",
      "Epoch 49/50\n",
      "43/43 [==============================] - 4s 83ms/step - loss: 1.5842e-04 - val_loss: 5.5260e-04\n",
      "Epoch 50/50\n",
      "43/43 [==============================] - 4s 84ms/step - loss: 1.5280e-04 - val_loss: 4.5535e-04\n"
     ]
    },
    {
     "data": {
      "text/plain": [
       "<keras.callbacks.History at 0x7f013e1aef80>"
      ]
     },
     "execution_count": 191,
     "metadata": {},
     "output_type": "execute_result"
    }
   ],
   "source": [
    "model_close.fit(X_train,y_train,validation_data=(X_test,y_test),epochs=50,batch_size=32,verbose=1)"
   ]
  },
  {
   "cell_type": "code",
   "execution_count": 211,
   "metadata": {
    "execution": {
     "iopub.execute_input": "2023-09-22T20:23:31.846375Z",
     "iopub.status.busy": "2023-09-22T20:23:31.845921Z",
     "iopub.status.idle": "2023-09-22T20:23:32.302894Z",
     "shell.execute_reply": "2023-09-22T20:23:32.301202Z",
     "shell.execute_reply.started": "2023-09-22T20:23:31.846340Z"
    }
   },
   "outputs": [
    {
     "data": {
      "text/plain": [
       "Text(0.5, 1.0, 'Original Plot of Closing Price of Stock')"
      ]
     },
     "execution_count": 211,
     "metadata": {},
     "output_type": "execute_result"
    },
    {
     "data": {
      "image/png": "[encoded data removed]",
      "text/plain": [
       "<Figure size 640x480 with 1 Axes>"
      ]
     },
     "metadata": {},
     "output_type": "display_data"
    }
   ],
   "source": [
    "plt.plot(data.index,data['Close'])\n",
    "plt.xlabel('Time')\n",
    "plt.ylabel('Closing Price of Stock')\n",
    "plt.title('Original Plot of Closing Price of Stock')"
   ]
  },
  {
   "cell_type": "code",
   "execution_count": 194,
   "metadata": {
    "execution": {
     "iopub.execute_input": "2023-09-22T19:31:49.752301Z",
     "iopub.status.busy": "2023-09-22T19:31:49.751597Z",
     "iopub.status.idle": "2023-09-22T19:31:49.761513Z",
     "shell.execute_reply": "2023-09-22T19:31:49.760140Z",
     "shell.execute_reply.started": "2023-09-22T19:31:49.752236Z"
    }
   },
   "outputs": [
    {
     "data": {
      "text/plain": [
       "(2035, 1374, 561, 561)"
      ]
     },
     "execution_count": 194,
     "metadata": {},
     "output_type": "execute_result"
    }
   ],
   "source": [
    "len(data),len(X_train),len(X_test),len(data.index[training_size+seq_len:])"
   ]
  },
  {
   "cell_type": "markdown",
   "metadata": {},
   "source": [
    "## Performance of Model:"
   ]
  },
  {
   "cell_type": "code",
   "execution_count": 202,
   "metadata": {
    "execution": {
     "iopub.execute_input": "2023-09-22T19:41:08.714353Z",
     "iopub.status.busy": "2023-09-22T19:41:08.713932Z",
     "iopub.status.idle": "2023-09-22T19:41:09.410573Z",
     "shell.execute_reply": "2023-09-22T19:41:09.409506Z",
     "shell.execute_reply.started": "2023-09-22T19:41:08.714320Z"
    }
   },
   "outputs": [
    {
     "name": "stdout",
     "output_type": "stream",
     "text": [
      "18/18 [==============================] - 0s 24ms/step\n"
     ]
    }
   ],
   "source": [
    "y_test_pred=minmaxscaler.inverse_transform(model_close.predict(X_test))"
   ]
  },
  {
   "cell_type": "code",
   "execution_count": 210,
   "metadata": {
    "execution": {
     "iopub.execute_input": "2023-09-22T19:56:40.554768Z",
     "iopub.status.busy": "2023-09-22T19:56:40.554343Z",
     "iopub.status.idle": "2023-09-22T19:56:40.564572Z",
     "shell.execute_reply": "2023-09-22T19:56:40.562792Z",
     "shell.execute_reply.started": "2023-09-22T19:56:40.554736Z"
    }
   },
   "outputs": [
    {
     "name": "stdout",
     "output_type": "stream",
     "text": [
      "The Mean Squared Error Between Test Value and Predicted Value is:  42758.945691768095\n",
      "The Root Mean Squared Error Between Test Value and Predicted Value is:  206.78236310616072\n"
     ]
    }
   ],
   "source": [
    "from sklearn.metrics import mean_squared_error\n",
    "print(\"The Mean Squared Error Between Test Value and Predicted Value is: \",mean_squared_error(y_test,y_test_pred))\n",
    "print(\"The Root Mean Squared Error Between Test Value and Predicted Value is: \",math.sqrt(mean_squared_error(y_test,y_test_pred)))"
   ]
  },
  {
   "cell_type": "code",
   "execution_count": 208,
   "metadata": {
    "execution": {
     "iopub.execute_input": "2023-09-22T19:55:26.100396Z",
     "iopub.status.busy": "2023-09-22T19:55:26.099865Z",
     "iopub.status.idle": "2023-09-22T19:55:28.492773Z",
     "shell.execute_reply": "2023-09-22T19:55:28.491589Z",
     "shell.execute_reply.started": "2023-09-22T19:55:26.100357Z"
    }
   },
   "outputs": [
    {
     "name": "stdout",
     "output_type": "stream",
     "text": [
      "18/18 [==============================] - 0s 23ms/step\n",
      "43/43 [==============================] - 1s 24ms/step\n"
     ]
    },
    {
     "data": {
      "text/plain": [
       "Text(0.5, 1.0, 'Stock Market Closing Price Prediction Using Stacked LSTM')"
      ]
     },
     "execution_count": 208,
     "metadata": {},
     "output_type": "execute_result"
    },
    {
     "data": {
      "image/png": "[encoded data removed]",
      "text/plain": [
       "<Figure size 640x480 with 1 Axes>"
      ]
     },
     "metadata": {},
     "output_type": "display_data"
    }
   ],
   "source": [
    "plt.plot(data.index,minmaxscaler.inverse_transform(data[['Close']]))\n",
    "plt.plot(data.index[training_size+seq_len:],minmaxscaler.inverse_transform(model_close.predict(X_test)))\n",
    "plt.plot(data.index[:training_size-seq_len],minmaxscaler.inverse_transform(model_close.predict(X_train)))\n",
    "plt.xlabel('Time')\n",
    "plt.ylabel('Stock Closing Price')\n",
    "plt.legend('upperleft',labels=['Original Time Series','Predicted Time Series','Training Time Series With '+str(seq_len)+' Sequences Lag'])\n",
    "plt.title('Stock Market Closing Price Prediction Using Stacked LSTM')"
   ]
  },
  {
   "cell_type": "code",
   "execution_count": null,
   "metadata": {},
   "outputs": [],
   "source": []
  },
  {
   "cell_type": "code",
   "execution_count": null,
   "metadata": {},
   "outputs": [],
   "source": []
  }
 ],
 "metadata": {
  "kernelspec": {
   "display_name": "Python 3 (ipykernel)",
   "language": "python",
   "name": "python3"
  },
  "language_info": {
   "codemirror_mode": {
    "name": "ipython",
    "version": 3
   },
   "file_extension": ".py",
   "mimetype": "text/x-python",
   "name": "python",
   "nbconvert_exporter": "python",
   "pygments_lexer": "ipython3",
   "version": "3.10.9"
  }
 },
 "nbformat": 4,
 "nbformat_minor": 4
}
